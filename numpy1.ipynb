{
 "cells": [
  {
   "cell_type": "code",
   "execution_count": 2,
   "id": "german-senator",
   "metadata": {},
   "outputs": [],
   "source": [
    "#import numpy\n",
    "import numpy as np"
   ]
  },
  {
   "cell_type": "code",
   "execution_count": 3,
   "id": "significant-quantum",
   "metadata": {},
   "outputs": [],
   "source": [
    "my_list=[1,2,3,4,5]"
   ]
  },
  {
   "cell_type": "code",
   "execution_count": 4,
   "id": "atlantic-grenada",
   "metadata": {},
   "outputs": [],
   "source": [
    "arr1=np.array(my_list)"
   ]
  },
  {
   "cell_type": "code",
   "execution_count": 5,
   "id": "nearby-belize",
   "metadata": {},
   "outputs": [
    {
     "name": "stdout",
     "output_type": "stream",
     "text": [
      "[1 2 3 4 5]\n"
     ]
    }
   ],
   "source": [
    "print(arr1)"
   ]
  },
  {
   "cell_type": "code",
   "execution_count": 6,
   "id": "figured-gothic",
   "metadata": {},
   "outputs": [
    {
     "data": {
      "text/plain": [
       "numpy.ndarray"
      ]
     },
     "execution_count": 6,
     "metadata": {},
     "output_type": "execute_result"
    }
   ],
   "source": [
    "type(arr1)"
   ]
  },
  {
   "cell_type": "code",
   "execution_count": 27,
   "id": "wound-buffalo",
   "metadata": {},
   "outputs": [],
   "source": [
    "#multi-nested array\n",
    "my_list1=[1,2,3,4,5]\n",
    "my_list2=[2,3,4,5,6]\n",
    "my_list3=[9,7,6,8,9]"
   ]
  },
  {
   "cell_type": "code",
   "execution_count": 28,
   "id": "duplicate-schema",
   "metadata": {},
   "outputs": [],
   "source": [
    "arr1=np.array([my_list1,my_list2,my_list3])"
   ]
  },
  {
   "cell_type": "code",
   "execution_count": 30,
   "id": "statewide-reynolds",
   "metadata": {},
   "outputs": [
    {
     "name": "stdout",
     "output_type": "stream",
     "text": [
      "[[1 2 3 4 5]\n",
      " [2 3 4 5 6]\n",
      " [9 7 6 8 9]]\n"
     ]
    }
   ],
   "source": [
    "print(arr1)"
   ]
  },
  {
   "cell_type": "code",
   "execution_count": 31,
   "id": "mysterious-chapter",
   "metadata": {},
   "outputs": [
    {
     "data": {
      "text/plain": [
       "numpy.ndarray"
      ]
     },
     "execution_count": 31,
     "metadata": {},
     "output_type": "execute_result"
    }
   ],
   "source": [
    "type(arr1)"
   ]
  },
  {
   "cell_type": "code",
   "execution_count": 119,
   "id": "scheduled-place",
   "metadata": {},
   "outputs": [
    {
     "data": {
      "text/plain": [
       "(3, 5)"
      ]
     },
     "execution_count": 119,
     "metadata": {},
     "output_type": "execute_result"
    }
   ],
   "source": [
    "arr1.shape"
   ]
  },
  {
   "cell_type": "code",
   "execution_count": null,
   "id": "emerging-desire",
   "metadata": {},
   "outputs": [],
   "source": [
    "# indexing"
   ]
  },
  {
   "cell_type": "code",
   "execution_count": 33,
   "id": "suffering-graphics",
   "metadata": {},
   "outputs": [
    {
     "data": {
      "text/plain": [
       "array([[1, 2, 3, 4, 5],\n",
       "       [2, 3, 4, 5, 6],\n",
       "       [9, 7, 6, 8, 9]])"
      ]
     },
     "execution_count": 33,
     "metadata": {},
     "output_type": "execute_result"
    }
   ],
   "source": [
    "arr1"
   ]
  },
  {
   "cell_type": "code",
   "execution_count": 34,
   "id": "retired-allah",
   "metadata": {},
   "outputs": [],
   "source": [
    "arr2=np.array(my_list1)"
   ]
  },
  {
   "cell_type": "code",
   "execution_count": 51,
   "id": "contemporary-dialogue",
   "metadata": {},
   "outputs": [
    {
     "data": {
      "text/plain": [
       "array([1, 2, 3, 4, 5])"
      ]
     },
     "execution_count": 51,
     "metadata": {},
     "output_type": "execute_result"
    }
   ],
   "source": [
    "arr2"
   ]
  },
  {
   "cell_type": "code",
   "execution_count": 52,
   "id": "unusual-covering",
   "metadata": {},
   "outputs": [],
   "source": [
    "# [1:,:2] means include all rows start from 1 and all \n",
    "# columns excluding 2"
   ]
  },
  {
   "cell_type": "code",
   "execution_count": 36,
   "id": "veterinary-avatar",
   "metadata": {},
   "outputs": [
    {
     "data": {
      "text/plain": [
       "array([[2, 3],\n",
       "       [9, 7]])"
      ]
     },
     "execution_count": 36,
     "metadata": {},
     "output_type": "execute_result"
    }
   ],
   "source": [
    "arr1[1:,:2]"
   ]
  },
  {
   "cell_type": "code",
   "execution_count": 37,
   "id": "lasting-wright",
   "metadata": {},
   "outputs": [],
   "source": [
    "# 0:2 means row 2 is not included"
   ]
  },
  {
   "cell_type": "code",
   "execution_count": 41,
   "id": "imperial-episode",
   "metadata": {},
   "outputs": [
    {
     "data": {
      "text/plain": [
       "array([[5, 6],\n",
       "       [8, 9]])"
      ]
     },
     "execution_count": 41,
     "metadata": {},
     "output_type": "execute_result"
    }
   ],
   "source": [
    "arr1[1:,3:]"
   ]
  },
  {
   "cell_type": "code",
   "execution_count": 53,
   "id": "creative-mainstream",
   "metadata": {},
   "outputs": [
    {
     "data": {
      "text/plain": [
       "array([[3, 4, 5]])"
      ]
     },
     "execution_count": 53,
     "metadata": {},
     "output_type": "execute_result"
    }
   ],
   "source": [
    "arr1[1:2,1:4]"
   ]
  },
  {
   "cell_type": "code",
   "execution_count": 54,
   "id": "abandoned-savings",
   "metadata": {},
   "outputs": [],
   "source": [
    "arr2=np.arange(0,10)"
   ]
  },
  {
   "cell_type": "code",
   "execution_count": 56,
   "id": "occasional-chicago",
   "metadata": {},
   "outputs": [
    {
     "data": {
      "text/plain": [
       "array([0, 1, 2, 3, 4, 5, 6, 7, 8, 9])"
      ]
     },
     "execution_count": 56,
     "metadata": {},
     "output_type": "execute_result"
    }
   ],
   "source": [
    "arr2"
   ]
  },
  {
   "cell_type": "code",
   "execution_count": 58,
   "id": "engaging-labor",
   "metadata": {},
   "outputs": [],
   "source": [
    "arr2=np.arange(1,10,3)"
   ]
  },
  {
   "cell_type": "code",
   "execution_count": 59,
   "id": "beneficial-ensemble",
   "metadata": {},
   "outputs": [
    {
     "data": {
      "text/plain": [
       "array([1, 4, 7])"
      ]
     },
     "execution_count": 59,
     "metadata": {},
     "output_type": "execute_result"
    }
   ],
   "source": [
    "arr2"
   ]
  },
  {
   "cell_type": "code",
   "execution_count": null,
   "id": "grave-cargo",
   "metadata": {},
   "outputs": [],
   "source": [
    "#linspace gives same space for all"
   ]
  },
  {
   "cell_type": "code",
   "execution_count": 60,
   "id": "extra-aspect",
   "metadata": {},
   "outputs": [
    {
     "data": {
      "text/plain": [
       "array([ 1.        ,  2.28571429,  3.57142857,  4.85714286,  6.14285714,\n",
       "        7.42857143,  8.71428571, 10.        ])"
      ]
     },
     "execution_count": 60,
     "metadata": {},
     "output_type": "execute_result"
    }
   ],
   "source": [
    "np.linspace(1,10,8)"
   ]
  },
  {
   "cell_type": "code",
   "execution_count": null,
   "id": "provincial-phenomenon",
   "metadata": {},
   "outputs": [],
   "source": [
    "#here the gap is 0.18367347"
   ]
  },
  {
   "cell_type": "code",
   "execution_count": 61,
   "id": "stupid-disposition",
   "metadata": {},
   "outputs": [
    {
     "data": {
      "text/plain": [
       "array([ 1.        ,  1.18367347,  1.36734694,  1.55102041,  1.73469388,\n",
       "        1.91836735,  2.10204082,  2.28571429,  2.46938776,  2.65306122,\n",
       "        2.83673469,  3.02040816,  3.20408163,  3.3877551 ,  3.57142857,\n",
       "        3.75510204,  3.93877551,  4.12244898,  4.30612245,  4.48979592,\n",
       "        4.67346939,  4.85714286,  5.04081633,  5.2244898 ,  5.40816327,\n",
       "        5.59183673,  5.7755102 ,  5.95918367,  6.14285714,  6.32653061,\n",
       "        6.51020408,  6.69387755,  6.87755102,  7.06122449,  7.24489796,\n",
       "        7.42857143,  7.6122449 ,  7.79591837,  7.97959184,  8.16326531,\n",
       "        8.34693878,  8.53061224,  8.71428571,  8.89795918,  9.08163265,\n",
       "        9.26530612,  9.44897959,  9.63265306,  9.81632653, 10.        ])"
      ]
     },
     "execution_count": 61,
     "metadata": {},
     "output_type": "execute_result"
    }
   ],
   "source": [
    "np.linspace(1,10,50)"
   ]
  },
  {
   "cell_type": "code",
   "execution_count": 64,
   "id": "logical-amazon",
   "metadata": {},
   "outputs": [
    {
     "data": {
      "text/plain": [
       "array([1, 4, 7])"
      ]
     },
     "execution_count": 64,
     "metadata": {},
     "output_type": "execute_result"
    }
   ],
   "source": [
    "arr2"
   ]
  },
  {
   "cell_type": "code",
   "execution_count": 65,
   "id": "young-relative",
   "metadata": {},
   "outputs": [],
   "source": [
    "arr3=np.array([1,2,3,4,5,6,7,8,9])"
   ]
  },
  {
   "cell_type": "code",
   "execution_count": 66,
   "id": "composite-vacation",
   "metadata": {},
   "outputs": [
    {
     "data": {
      "text/plain": [
       "array([1, 2, 3, 4, 5, 6, 7, 8, 9])"
      ]
     },
     "execution_count": 66,
     "metadata": {},
     "output_type": "execute_result"
    }
   ],
   "source": [
    "arr3"
   ]
  },
  {
   "cell_type": "code",
   "execution_count": 67,
   "id": "antique-thermal",
   "metadata": {},
   "outputs": [
    {
     "data": {
      "text/plain": [
       "numpy.ndarray"
      ]
     },
     "execution_count": 67,
     "metadata": {},
     "output_type": "execute_result"
    }
   ],
   "source": [
    "type(arr3)"
   ]
  },
  {
   "cell_type": "code",
   "execution_count": 2,
   "id": "aboriginal-moscow",
   "metadata": {},
   "outputs": [],
   "source": [
    "#copy function and broadcasting"
   ]
  },
  {
   "cell_type": "code",
   "execution_count": null,
   "id": "surrounded-huntington",
   "metadata": {},
   "outputs": [],
   "source": [
    "# from index 3, make all 100 (included index 3)"
   ]
  },
  {
   "cell_type": "code",
   "execution_count": 68,
   "id": "confused-nickel",
   "metadata": {},
   "outputs": [],
   "source": [
    "arr3[3:]=100"
   ]
  },
  {
   "cell_type": "code",
   "execution_count": 69,
   "id": "measured-stewart",
   "metadata": {},
   "outputs": [
    {
     "data": {
      "text/plain": [
       "array([  1,   2,   3, 100, 100, 100, 100, 100, 100])"
      ]
     },
     "execution_count": 69,
     "metadata": {},
     "output_type": "execute_result"
    }
   ],
   "source": [
    "arr3"
   ]
  },
  {
   "cell_type": "code",
   "execution_count": 70,
   "id": "cutting-senator",
   "metadata": {},
   "outputs": [],
   "source": [
    "arr4=arr3"
   ]
  },
  {
   "cell_type": "code",
   "execution_count": 71,
   "id": "optimum-symposium",
   "metadata": {},
   "outputs": [],
   "source": [
    "arr4[3:]=500"
   ]
  },
  {
   "cell_type": "code",
   "execution_count": 73,
   "id": "suffering-supplement",
   "metadata": {},
   "outputs": [
    {
     "data": {
      "text/plain": [
       "array([  1,   2,   3, 500, 500, 500, 500, 500, 500])"
      ]
     },
     "execution_count": 73,
     "metadata": {},
     "output_type": "execute_result"
    }
   ],
   "source": [
    "arr4"
   ]
  },
  {
   "cell_type": "code",
   "execution_count": null,
   "id": "incident-permission",
   "metadata": {},
   "outputs": [],
   "source": [
    "#array is reference type,also change arr3.\n",
    "# in order to prevent this use  arr.copy() "
   ]
  },
  {
   "cell_type": "code",
   "execution_count": 74,
   "id": "failing-organ",
   "metadata": {},
   "outputs": [
    {
     "data": {
      "text/plain": [
       "array([  1,   2,   3, 500, 500, 500, 500, 500, 500])"
      ]
     },
     "execution_count": 74,
     "metadata": {},
     "output_type": "execute_result"
    }
   ],
   "source": [
    "arr3"
   ]
  },
  {
   "cell_type": "code",
   "execution_count": 75,
   "id": "widespread-brain",
   "metadata": {},
   "outputs": [],
   "source": [
    "arr5=arr3.copy()"
   ]
  },
  {
   "cell_type": "code",
   "execution_count": 77,
   "id": "demanding-candy",
   "metadata": {},
   "outputs": [],
   "source": [
    "arr5[3:]=1000"
   ]
  },
  {
   "cell_type": "code",
   "execution_count": 78,
   "id": "universal-tuition",
   "metadata": {},
   "outputs": [
    {
     "data": {
      "text/plain": [
       "array([   1,    2,    3, 1000, 1000, 1000, 1000, 1000, 1000])"
      ]
     },
     "execution_count": 78,
     "metadata": {},
     "output_type": "execute_result"
    }
   ],
   "source": [
    "arr5"
   ]
  },
  {
   "cell_type": "code",
   "execution_count": 79,
   "id": "burning-mongolia",
   "metadata": {},
   "outputs": [
    {
     "data": {
      "text/plain": [
       "array([  1,   2,   3, 500, 500, 500, 500, 500, 500])"
      ]
     },
     "execution_count": 79,
     "metadata": {},
     "output_type": "execute_result"
    }
   ],
   "source": [
    "arr3"
   ]
  },
  {
   "cell_type": "code",
   "execution_count": 82,
   "id": "formed-consent",
   "metadata": {},
   "outputs": [],
   "source": [
    "#some conditions very useful in exploratory data analysis:"
   ]
  },
  {
   "cell_type": "code",
   "execution_count": 83,
   "id": "monetary-christopher",
   "metadata": {},
   "outputs": [
    {
     "data": {
      "text/plain": [
       "array([ True, False, False, False, False, False, False, False, False])"
      ]
     },
     "execution_count": 83,
     "metadata": {},
     "output_type": "execute_result"
    }
   ],
   "source": [
    "arr5<2"
   ]
  },
  {
   "cell_type": "code",
   "execution_count": 84,
   "id": "pregnant-command",
   "metadata": {},
   "outputs": [
    {
     "data": {
      "text/plain": [
       "array([   2,    4,    6, 2000, 2000, 2000, 2000, 2000, 2000])"
      ]
     },
     "execution_count": 84,
     "metadata": {},
     "output_type": "execute_result"
    }
   ],
   "source": [
    "arr5*2"
   ]
  },
  {
   "cell_type": "code",
   "execution_count": 85,
   "id": "verbal-width",
   "metadata": {},
   "outputs": [],
   "source": [
    "#if you want elements which are less than 1000"
   ]
  },
  {
   "cell_type": "code",
   "execution_count": 87,
   "id": "criminal-flooring",
   "metadata": {},
   "outputs": [
    {
     "data": {
      "text/plain": [
       "array([1, 2, 3])"
      ]
     },
     "execution_count": 87,
     "metadata": {},
     "output_type": "execute_result"
    }
   ],
   "source": [
    "arr5[arr5<6]"
   ]
  },
  {
   "cell_type": "code",
   "execution_count": 88,
   "id": "bottom-weekly",
   "metadata": {},
   "outputs": [
    {
     "data": {
      "text/plain": [
       "array([   1,    2,    3, 1000, 1000, 1000, 1000, 1000, 1000])"
      ]
     },
     "execution_count": 88,
     "metadata": {},
     "output_type": "execute_result"
    }
   ],
   "source": [
    "arr5"
   ]
  },
  {
   "cell_type": "code",
   "execution_count": 89,
   "id": "invalid-scale",
   "metadata": {},
   "outputs": [],
   "source": [
    "#create arrays and reshape"
   ]
  },
  {
   "cell_type": "code",
   "execution_count": 90,
   "id": "collectible-seminar",
   "metadata": {},
   "outputs": [
    {
     "data": {
      "text/plain": [
       "array([0, 1, 2, 3, 4, 5, 6, 7, 8, 9])"
      ]
     },
     "execution_count": 90,
     "metadata": {},
     "output_type": "execute_result"
    }
   ],
   "source": [
    "np.arange(0,10)"
   ]
  },
  {
   "cell_type": "code",
   "execution_count": 91,
   "id": "active-atmosphere",
   "metadata": {},
   "outputs": [
    {
     "data": {
      "text/plain": [
       "array([[0, 1],\n",
       "       [2, 3],\n",
       "       [4, 5],\n",
       "       [6, 7],\n",
       "       [8, 9]])"
      ]
     },
     "execution_count": 91,
     "metadata": {},
     "output_type": "execute_result"
    }
   ],
   "source": [
    "np.arange(0,10).reshape(5,2)"
   ]
  },
  {
   "cell_type": "code",
   "execution_count": null,
   "id": "international-pickup",
   "metadata": {},
   "outputs": [],
   "source": [
    "# multiplying two arrays internally"
   ]
  },
  {
   "cell_type": "code",
   "execution_count": 92,
   "id": "second-bosnia",
   "metadata": {},
   "outputs": [
    {
     "data": {
      "text/plain": [
       "array([     1,      4,      9, 500000, 500000, 500000, 500000, 500000,\n",
       "       500000])"
      ]
     },
     "execution_count": 92,
     "metadata": {},
     "output_type": "execute_result"
    }
   ],
   "source": [
    "arr4*arr5"
   ]
  },
  {
   "cell_type": "code",
   "execution_count": null,
   "id": "invisible-understanding",
   "metadata": {},
   "outputs": [],
   "source": [
    "# default data-type is float, that's why 1 has dot+\n",
    "# attached to it. (press shft+tab)"
   ]
  },
  {
   "cell_type": "code",
   "execution_count": 93,
   "id": "standard-registration",
   "metadata": {},
   "outputs": [
    {
     "data": {
      "text/plain": [
       "array([1., 1., 1., 1.])"
      ]
     },
     "execution_count": 93,
     "metadata": {},
     "output_type": "execute_result"
    }
   ],
   "source": [
    "np.ones(4)"
   ]
  },
  {
   "cell_type": "code",
   "execution_count": 94,
   "id": "brief-crisis",
   "metadata": {},
   "outputs": [
    {
     "data": {
      "text/plain": [
       "array([1, 1, 1, 1])"
      ]
     },
     "execution_count": 94,
     "metadata": {},
     "output_type": "execute_result"
    }
   ],
   "source": [
    "np.ones(4, dtype=int)"
   ]
  },
  {
   "cell_type": "code",
   "execution_count": null,
   "id": "presidential-pharmaceutical",
   "metadata": {},
   "outputs": [],
   "source": [
    "#multi-dimension array"
   ]
  },
  {
   "cell_type": "code",
   "execution_count": 95,
   "id": "young-resistance",
   "metadata": {},
   "outputs": [
    {
     "data": {
      "text/plain": [
       "array([[1, 1, 1, 1, 1],\n",
       "       [1, 1, 1, 1, 1]])"
      ]
     },
     "execution_count": 95,
     "metadata": {},
     "output_type": "execute_result"
    }
   ],
   "source": [
    "np.ones((2,5), dtype=int)"
   ]
  },
  {
   "cell_type": "code",
   "execution_count": 99,
   "id": "turned-opening",
   "metadata": {},
   "outputs": [],
   "source": [
    "#random distribution"
   ]
  },
  {
   "cell_type": "code",
   "execution_count": null,
   "id": "minus-homeless",
   "metadata": {},
   "outputs": [],
   "source": [
    "#random.rand() gives random numbers b/w 0 and 1."
   ]
  },
  {
   "cell_type": "code",
   "execution_count": 102,
   "id": "reserved-decade",
   "metadata": {},
   "outputs": [
    {
     "data": {
      "text/plain": [
       "array([[0.0204996 , 0.8037483 , 0.60865037],\n",
       "       [0.04229544, 0.42834846, 0.92954689],\n",
       "       [0.90517767, 0.67208309, 0.34431477]])"
      ]
     },
     "execution_count": 102,
     "metadata": {},
     "output_type": "execute_result"
    }
   ],
   "source": [
    "np.random.rand(3,3)"
   ]
  },
  {
   "cell_type": "code",
   "execution_count": null,
   "id": "african-ordinance",
   "metadata": {},
   "outputs": [],
   "source": [
    "# Return a sample (or samples) from the \"standard normal\"\n",
    "# distribution.\n"
   ]
  },
  {
   "cell_type": "code",
   "execution_count": 100,
   "id": "occupied-kuwait",
   "metadata": {},
   "outputs": [],
   "source": [
    "arr_ex=np.random.randn(4,4)"
   ]
  },
  {
   "cell_type": "code",
   "execution_count": 101,
   "id": "compound-quest",
   "metadata": {},
   "outputs": [
    {
     "data": {
      "text/plain": [
       "array([[-0.52104349, -1.07339386, -1.14447913, -2.38492926],\n",
       "       [-0.31167863, -0.74921944,  0.6966245 ,  0.80376457],\n",
       "       [ 0.08147141, -0.60420128, -0.557654  ,  0.57624708],\n",
       "       [ 0.29417689,  0.6478138 ,  0.6434995 , -0.02225303]])"
      ]
     },
     "execution_count": 101,
     "metadata": {},
     "output_type": "execute_result"
    }
   ],
   "source": [
    "arr_ex"
   ]
  },
  {
   "cell_type": "code",
   "execution_count": null,
   "id": "central-newcastle",
   "metadata": {},
   "outputs": [],
   "source": []
  },
  {
   "cell_type": "code",
   "execution_count": 106,
   "id": "rocky-lithuania",
   "metadata": {},
   "outputs": [],
   "source": [
    "import pandas as pd"
   ]
  },
  {
   "cell_type": "code",
   "execution_count": null,
   "id": "popular-excuse",
   "metadata": {},
   "outputs": [],
   "source": [
    "# between 0 and 100, select 8 int values"
   ]
  },
  {
   "cell_type": "code",
   "execution_count": 110,
   "id": "british-yeast",
   "metadata": {},
   "outputs": [],
   "source": [
    "arr8 = np.random.randint(0,100,8)"
   ]
  },
  {
   "cell_type": "code",
   "execution_count": null,
   "id": "tested-conference",
   "metadata": {},
   "outputs": [],
   "source": [
    "# randint giving duplicate values "
   ]
  },
  {
   "cell_type": "code",
   "execution_count": 108,
   "id": "turned-longer",
   "metadata": {},
   "outputs": [
    {
     "data": {
      "text/plain": [
       "array([12, 10, 10, 13, 12, 12])"
      ]
     },
     "execution_count": 108,
     "metadata": {},
     "output_type": "execute_result"
    }
   ],
   "source": [
    "np.random.randint(10,14,6)"
   ]
  },
  {
   "cell_type": "code",
   "execution_count": 112,
   "id": "cooperative-audit",
   "metadata": {},
   "outputs": [
    {
     "data": {
      "text/plain": [
       "array([80, 28, 50, 85, 56,  3, 81, 54])"
      ]
     },
     "execution_count": 112,
     "metadata": {},
     "output_type": "execute_result"
    }
   ],
   "source": [
    "arr8"
   ]
  },
  {
   "cell_type": "code",
   "execution_count": null,
   "id": "abroad-earth",
   "metadata": {},
   "outputs": [],
   "source": [
    "# arr8  contains 8 elements so we can reshape it in 4*2"
   ]
  },
  {
   "cell_type": "code",
   "execution_count": 117,
   "id": "mediterranean-capital",
   "metadata": {},
   "outputs": [
    {
     "data": {
      "text/plain": [
       "array([[80, 28],\n",
       "       [50, 85],\n",
       "       [56,  3],\n",
       "       [81, 54]])"
      ]
     },
     "execution_count": 117,
     "metadata": {},
     "output_type": "execute_result"
    }
   ],
   "source": [
    "arr8.reshape(4,2)"
   ]
  },
  {
   "cell_type": "code",
   "execution_count": null,
   "id": "nominated-sword",
   "metadata": {},
   "outputs": [],
   "source": [
    "# Results are from the \"continuous uniform\" distribution"
   ]
  },
  {
   "cell_type": "code",
   "execution_count": null,
   "id": "minute-lunch",
   "metadata": {},
   "outputs": [],
   "source": [
    "# random_sample takes only 1 argument"
   ]
  },
  {
   "cell_type": "code",
   "execution_count": 115,
   "id": "optimum-miracle",
   "metadata": {},
   "outputs": [
    {
     "data": {
      "text/plain": [
       "array([[0.91010196, 0.90306028, 0.23354007, 0.50080271, 0.96226096]])"
      ]
     },
     "execution_count": 115,
     "metadata": {},
     "output_type": "execute_result"
    }
   ],
   "source": [
    "np.random.random_sample((1,5))"
   ]
  },
  {
   "cell_type": "code",
   "execution_count": 122,
   "id": "honey-thumbnail",
   "metadata": {},
   "outputs": [
    {
     "data": {
      "text/plain": [
       "array([[0.6767979 , 0.00181512, 0.70540863, 0.72891488, 0.82349604,\n",
       "        0.39304965, 0.75761792, 0.41661972]])"
      ]
     },
     "execution_count": 122,
     "metadata": {},
     "output_type": "execute_result"
    }
   ],
   "source": [
    "np.random.random_sample((1,8))"
   ]
  },
  {
   "cell_type": "code",
   "execution_count": null,
   "id": "standard-reason",
   "metadata": {},
   "outputs": [],
   "source": [
    "# why so many values?"
   ]
  },
  {
   "cell_type": "code",
   "execution_count": 121,
   "id": "thick-polls",
   "metadata": {},
   "outputs": [
    {
     "data": {
      "text/plain": [
       "array([[0.18485879, 0.81972638, 0.63759892, 0.83306311, 0.05529604,\n",
       "        0.01892266, 0.78882565, 0.74329559, 0.43949248],\n",
       "       [0.83172243, 0.81308596, 0.49737153, 0.62905805, 0.27834699,\n",
       "        0.74585674, 0.4412163 , 0.13703012, 0.84881077],\n",
       "       [0.00792821, 0.60332481, 0.32169162, 0.56607308, 0.9025585 ,\n",
       "        0.73367494, 0.88729999, 0.00931017, 0.3794951 ],\n",
       "       [0.01648258, 0.99559318, 0.80752771, 0.01791717, 0.87493147,\n",
       "        0.12363347, 0.8568405 , 0.72929625, 0.01806734]])"
      ]
     },
     "execution_count": 121,
     "metadata": {},
     "output_type": "execute_result"
    }
   ],
   "source": [
    "np.random.random_sample((4,9))"
   ]
  },
  {
   "cell_type": "code",
   "execution_count": null,
   "id": "rental-miniature",
   "metadata": {},
   "outputs": [],
   "source": []
  }
 ],
 "metadata": {
  "kernelspec": {
   "display_name": "Python 3",
   "language": "python",
   "name": "python3"
  },
  "language_info": {
   "codemirror_mode": {
    "name": "ipython",
    "version": 3
   },
   "file_extension": ".py",
   "mimetype": "text/x-python",
   "name": "python",
   "nbconvert_exporter": "python",
   "pygments_lexer": "ipython3",
   "version": "3.9.5"
  }
 },
 "nbformat": 4,
 "nbformat_minor": 5
}
